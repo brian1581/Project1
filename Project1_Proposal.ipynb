{
 "cells": [
  {
   "cell_type": "markdown",
   "metadata": {},
   "source": [
    "Project 1 Proposal\n",
    "Team 3 - \"Who's Your Data\"\n",
    "\n",
    "Project Topic: Job Postings\n",
    "\n",
    "Overview: Reviewing data from top job search sites to gain meaningful insights into demand for certain positions, skills, locations, and company types.\n",
    "\n",
    "Sources: Indeed.com, still searching for more meaningful sources and APIs\n",
    "\n",
    "Questions:\n",
    "\n",
    "1. Has the demand for remote positions increased in the last five to ten years?\n",
    "2. Where's the greatest demand in the US?\n",
    "3. What specific skills in those high demand areas are most commonly listed?\n",
    "\n",
    "**This is just the very beginning of our "
   ]
  }
 ],
 "metadata": {
  "kernelspec": {
   "display_name": "Python 3",
   "language": "python",
   "name": "python3"
  },
  "language_info": {
   "codemirror_mode": {
    "name": "ipython",
    "version": 3
   },
   "file_extension": ".py",
   "mimetype": "text/x-python",
   "name": "python",
   "nbconvert_exporter": "python",
   "pygments_lexer": "ipython3",
   "version": "3.7.3"
  }
 },
 "nbformat": 4,
 "nbformat_minor": 2
}
