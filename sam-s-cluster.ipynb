{
 "cells": [
  {
   "cell_type": "code",
   "execution_count": 1,
   "metadata": {},
   "outputs": [],
   "source": [
    "import pandas as pd\n",
    "import requests\n",
    "import numpy as np\n",
    "import matplotlib.pyplot as plt\n",
    "import csv\n",
    "import json\n",
    "import time\n",
    "from datetime import datetime\n",
    "from config import gkey\n",
    "import gmaps\n"
   ]
  },
  {
   "cell_type": "code",
   "execution_count": 2,
   "metadata": {},
   "outputs": [],
   "source": [
    "gmaps.configure(api_key=gkey)"
   ]
  },
  {
   "cell_type": "code",
   "execution_count": 3,
   "metadata": {},
   "outputs": [],
   "source": [
    "url = \"https://jobs.github.com/positions.json?\"\n",
    "page = \"page=\"\n",
    "page_num = \"0\"\n",
    "df_1 = []\n",
    "df_2 = []\n",
    "l = []\n",
    "time = str(datetime.now())"
   ]
  },
  {
   "cell_type": "code",
   "execution_count": 4,
   "metadata": {},
   "outputs": [],
   "source": [
    "csv = pd.read_csv('uscities_clean.csv')\n",
    "c_df = pd.DataFrame(csv)"
   ]
  },
  {
   "cell_type": "code",
   "execution_count": 5,
   "metadata": {},
   "outputs": [
    {
     "name": "stdout",
     "output_type": "stream",
     "text": [
      "Completed API call number 1\n",
      "Completed API call number 2\n",
      "Completed API call number 3\n",
      "Completed API call number 4\n",
      "Completed API call number 5\n",
      "Completed API call number 6\n",
      "res was smaller than 3 so we are going to stop the loop and print.\n",
      "final length of response 293\n"
     ]
    }
   ],
   "source": [
    "i = 1\n",
    "\n",
    "while i < 20:\n",
    "    \n",
    "    f = (url + page + str(i))\n",
    "    res = requests.get(f)\n",
    "    res_json = res.json()\n",
    "    res_vol = len(res_json)\n",
    "    \n",
    "    if (res_vol > 3):\n",
    "        l = l + res_json\n",
    "        print(f\"Completed API call number {i}\")\n",
    "    else:\n",
    "        print(f\"res was smaller than 3 so we are going to stop the loop and print.\")\n",
    "        print(f\"final length of response {len(l)}\")\n",
    "        break\n",
    "    i += 1\n",
    "\n",
    "#print(type(l))"
   ]
  },
  {
   "cell_type": "code",
   "execution_count": 6,
   "metadata": {},
   "outputs": [],
   "source": [
    "l = pd.DataFrame(l)\n",
    "#l\n"
   ]
  },
  {
   "cell_type": "code",
   "execution_count": 7,
   "metadata": {},
   "outputs": [],
   "source": [
    "l = pd.DataFrame(l)\n",
    "ls = l.drop(columns=['how_to_apply', 'id', 'company_logo', 'company_url'])\n",
    "#ls"
   ]
  },
  {
   "cell_type": "code",
   "execution_count": 8,
   "metadata": {},
   "outputs": [],
   "source": [
    "l['location'] = l['location'].replace(\n",
    "    {'New York, NY': 'New York, New York', 'New York': 'New York, New York', \n",
    "     'New York City': 'New York, New York', 'Frankfurt':'Frankfurt, Germany', \n",
    "     'Hamburg':'Hamburg, Germany','Barcelona':'Barcelona, Spain', 'Berlin':'Berlin, Germany', \n",
    "     'San Francisco': 'San Francisco, CA', 'London':'London, UK', 'Toronto':'Toronto, Canada', \n",
    "     'Chicago':'Chicago, IL', 'Den Haag':'Den Haag, Netherlands', 'Austin, Texas':'Austin, TX', 'München':'Munich, Berlin', \n",
    "     'Amsterdam':'Amsterdam, Netherlands', 'Eindhoven':'Eindhoven, Netherlands', 'Bremen':'Bremen, Germany', \n",
    "     'Munich':'Munich, Germany','Utrecht':'Utrecht, Netherlands','Oberkochen':'Oberkochen, Germany','Stuttgart':'Stuttgart, Germany',\n",
    "    'Frankfurt  (Main)':'Frankfurt, Germany', 'Warsaw':'Warsaw, Poland', 'Lisbon':'Lisbon, Portugal', 'Nürnberg':'Nürnberg, Germany',\n",
    "     'New York, New York 10001':'New York, NY', '81829 Munich':'Munich, Germany', 'Barendrecht': 'Barendrecht, Netherlands', 'Fort Collins':'Fort Collins, CO',\n",
    "     'Buffalo':'Buffalo, NY', 'Los Angeles, CA, USA':'Los Angeles, CA','Portland, Maine':'Portland, ME','Philadelphia':'Philadelphia, PA',\n",
    "     'Paris France':'Paris, France', 'Hamburg, Deutschland':'Hamburg, Germany', 'Rotterdam':'Rotterdam, Netherlands','Chicago, Illinois':'Chicago, IL', \n",
    "     'Budapest':'Budapest, Hungary', 'Bucharest':'Bucharest, Romania', 'San Francisco ':'San Francisco, CA','Remote Job':'Remote', 'Athens':'Athens, Greece',\n",
    "     'Den Bosch':'Den Bosch, Netherlands','Remote - US':'Remote','Nijverdal':'Nijverdal, Netherlands', 'San Diego':'San Diego, CA','Mill Valley':'Mill Valley, CA',\n",
    "     'Gothenburg':'Gothenburg, Sweden', 'Gothenburg ':'Gothenburg, Sweden','Redwood City, Ca':'Redwood City, CA', 'Oslo, Norway or Remote':'Remote','Lincoln, NE or Remote':'Remote','Helsinki/Remote':'Remote',\n",
    "     'Paris - Remote (European Timezone)':'Remote','Miami, Fl or Remote':'Remote','Columbus, Ohio':'Columbus, OH', 'Oberkochen, Germany':'Oberkochen, Germany', 'Palo Alto':'Palo Alto, CA',\n",
    "     'Cologne - Germany':'Cologne, Germany', 'Phoenix, Atlanta, Remote-US Based':'Remote'\n",
    "    }) \n"
   ]
  },
  {
   "cell_type": "code",
   "execution_count": 9,
   "metadata": {},
   "outputs": [],
   "source": [
    "new = l[\"location\"].str.split(\",\", n = 1, expand = True)\n",
    "l[\"city\"]=new[0]"
   ]
  },
  {
   "cell_type": "code",
   "execution_count": 10,
   "metadata": {},
   "outputs": [],
   "source": [
    "s = l.merge(c_df, how=\"left\", on=\"city\")\n",
    "c = pd.DataFrame(s).groupby(by=\"city\").count() #[['lat'],['lng']]"
   ]
  },
  {
   "cell_type": "code",
   "execution_count": 12,
   "metadata": {},
   "outputs": [
    {
     "data": {
      "text/html": [
       "<div>\n",
       "<style scoped>\n",
       "    .dataframe tbody tr th:only-of-type {\n",
       "        vertical-align: middle;\n",
       "    }\n",
       "\n",
       "    .dataframe tbody tr th {\n",
       "        vertical-align: top;\n",
       "    }\n",
       "\n",
       "    .dataframe thead th {\n",
       "        text-align: right;\n",
       "    }\n",
       "</style>\n",
       "<table border=\"1\" class=\"dataframe\">\n",
       "  <thead>\n",
       "    <tr style=\"text-align: right;\">\n",
       "      <th></th>\n",
       "      <th>lat</th>\n",
       "      <th>lng</th>\n",
       "      <th>city</th>\n",
       "    </tr>\n",
       "  </thead>\n",
       "  <tbody>\n",
       "  </tbody>\n",
       "</table>\n",
       "</div>"
      ],
      "text/plain": [
       "Empty DataFrame\n",
       "Columns: [lat, lng, city]\n",
       "Index: []"
      ]
     },
     "execution_count": 12,
     "metadata": {},
     "output_type": "execute_result"
    }
   ],
   "source": [
    "# clean_locations = [x for x in locations if x != 'NaN']\n",
    "dl = locations.apply (pd.to_numeric, errors='coerce')\n",
    "dl = dl.dropna()\n",
    "dl"
   ]
  },
  {
   "cell_type": "code",
   "execution_count": 13,
   "metadata": {},
   "outputs": [],
   "source": [
    "sc = s.drop(columns=['company', 'company_logo', 'location', 'company_url', 'created_at','description', 'how_to_apply','id_x','title','type','url','state_id','state_name','county_name','zips','id_y'])\n",
    "dsc = sc.apply (pd.to_numeric, errors='coerce')\n",
    "dsc = sc.dropna()"
   ]
  },
  {
   "cell_type": "code",
   "execution_count": 15,
   "metadata": {},
   "outputs": [],
   "source": [
    "final_coordinates = dsc.drop(columns='city')\n",
    "# final_coordinates"
   ]
  },
  {
   "cell_type": "code",
   "execution_count": 17,
   "metadata": {},
   "outputs": [
    {
     "data": {
      "application/vnd.jupyter.widget-view+json": {
       "model_id": "563cf3a3dc36432587349aabf8fc9df6",
       "version_major": 2,
       "version_minor": 0
      },
      "text/plain": [
       "Figure(layout=FigureLayout(height='420px'))"
      ]
     },
     "metadata": {},
     "output_type": "display_data"
    },
    {
     "data": {
      "text/plain": [
       "<Figure size 432x288 with 0 Axes>"
      ]
     },
     "metadata": {},
     "output_type": "display_data"
    }
   ],
   "source": [
    "# Create a poverty Heatmap layer \n",
    "# fig.add_layer(gmaps.heatmap_layer(locations))\n",
    "fig = gmaps.figure()\n",
    "\n",
    "heat_layer = gmaps.heatmap_layer(final_coordinates,# weights=location_count, \n",
    "                                 dissipating=False, max_intensity=10,\n",
    "                                 point_radius = 1)\n",
    "\n",
    "fig.add_layer(heat_layer)\n",
    "\n",
    "plt.savefig(\"Heatmap4.png\")\n",
    "\n",
    "fig\n",
    "\n"
   ]
  }
 ],
 "metadata": {
  "kernelspec": {
   "display_name": "Python 3",
   "language": "python",
   "name": "python3"
  },
  "language_info": {
   "codemirror_mode": {
    "name": "ipython",
    "version": 3
   },
   "file_extension": ".py",
   "mimetype": "text/x-python",
   "name": "python",
   "nbconvert_exporter": "python",
   "pygments_lexer": "ipython3",
   "version": "3.7.3"
  }
 },
 "nbformat": 4,
 "nbformat_minor": 2
}
